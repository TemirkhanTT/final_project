{
 "cells": [
  {
   "cell_type": "markdown",
   "metadata": {},
   "source": [
    "### 1.Оцените качество логистической регрессии (sklearn.linear_model.LogisticRegression с L2-регуляризацией) с помощью кросс-валидации по той же схеме, которая использовалась для градиентного бустинга. Подберите при этом лучший параметр регуляризации (C). Какое наилучшее качество у вас получилось? Как оно соотносится с качеством градиентного бустинга? Чем вы можете объяснить эту разницу? Быстрее ли работает логистическая регрессия по сравнению с градиентным бустингом?"
   ]
  },
  {
   "cell_type": "code",
   "execution_count": 5,
   "metadata": {},
   "outputs": [
    {
     "name": "stdout",
     "output_type": "stream",
     "text": [
      "C = 0.01\n",
      "0.7171582328987263\n",
      "Proshlo vremya: 0:01:29.180629\n",
      "C = 0.1\n",
      "0.7152693073725409\n",
      "Proshlo vremya: 0:01:28.218257\n",
      "C = 1.0\n",
      "0.7159970266280601\n",
      "Proshlo vremya: 0:01:37.500451\n",
      "C = 10.0\n",
      "0.7163091612209762\n",
      "Proshlo vremya: 0:01:24.795463\n",
      "Maximalnaya mediana: 0.721545908220063\n",
      "Luchshee C: 10.0\n"
     ]
    }
   ],
   "source": [
    "import pandas as pd\n",
    "import numpy as np\n",
    "from sklearn.ensemble import GradientBoostingClassifier\n",
    "from sklearn.model_selection import KFold\n",
    "from sklearn.metrics import roc_auc_score\n",
    "from sklearn.linear_model import LogisticRegression, LogisticRegressionCV\n",
    "from sklearn.preprocessing import StandardScaler\n",
    "\n",
    "import time\n",
    "import datetime\n",
    "import matplotlib.pyplot as plt\n",
    "\n",
    "\n",
    "features = pd.read_csv('./features.csv', index_col='match_id')\n",
    "\n",
    "\n",
    "y = features['radiant_win'].values\n",
    "\n",
    "features = features.drop(['duration', 'radiant_win', 'tower_status_radiant', 'tower_status_dire', \\\n",
    "                  'barracks_status_radiant', 'barracks_status_dire'], axis = 1)\n",
    "\n",
    "\n",
    "features = features.fillna(0)\n",
    "\n",
    "\n",
    "sdvig = KFold(n_splits = 5, shuffle = True)\n",
    "\n",
    "\n",
    "def regressia(X, y):\n",
    "    if isinstance(X, pd.DataFrame):\n",
    "        X = X.values\n",
    "    maxxx = -1\n",
    "    best = -1\n",
    "\n",
    "    for C in list(np.power(10.0, np.arange(-2, 2))):\n",
    "        print(\"C =\", C)\n",
    "    \n",
    "        nachalo = datetime.datetime.now()\n",
    "        clf = LogisticRegression(C = C)\n",
    "    \n",
    "        scores = np.array([])\n",
    "        for train_index, test_index in sdvig.split(X):\n",
    "            X_train, X_test = X[train_index], X[test_index]\n",
    "            y_train, y_test = y[train_index], y[test_index]\n",
    "            \n",
    "            scaler = StandardScaler()\n",
    "            scaler.fit(X_train, y_train)\n",
    "            scaled_train_X = scaler.transform(X_train)\n",
    "            scaled_test_X = scaler.transform(X_test)\n",
    "        \n",
    "            clf  = clf.fit(scaled_train_X, y_train)\n",
    "            pred = clf.predict_proba(scaled_test_X)[:, 1]\n",
    "            scores = np.append(scores, roc_auc_score(y_test, pred))\n",
    "        \n",
    "        print(np.median(scores))\n",
    "    \n",
    "        current_max = max(scores)\n",
    "        if current_max > maxxx:\n",
    "            maxxx = current_max\n",
    "            best = C\n",
    "    \n",
    "        print('Proshlo vremya:', datetime.datetime.now() - nachalo)\n",
    "    \n",
    "    return maxxx, best\n",
    "\n",
    "\n",
    "score, C = regressia(features, y)\n",
    "\n",
    "print('Maximalnaya mediana:', score)\n",
    "print('Luchshee C:', C)\n"
   ]
  },
  {
   "cell_type": "markdown",
   "metadata": {},
   "source": [
    "### Среди признаков в выборке есть категориальные, которые мы использовали как числовые, что вряд ли является хорошей идеей. Категориальных признаков в этой задаче одиннадцать: lobby_type и r1_hero, r2_hero, ..., r5_hero, d1_hero, d2_hero, ..., d5_hero. Уберите их из выборки, и проведите кросс-валидацию для логистической регрессии на новой выборке с подбором лучшего параметра регуляризации. Изменилось ли качество? Чем вы можете это объяснить?"
   ]
  },
  {
   "cell_type": "code",
   "execution_count": 6,
   "metadata": {},
   "outputs": [
    {
     "name": "stdout",
     "output_type": "stream",
     "text": [
      "C = 0.01\n",
      "0.7172949256863698\n",
      "Proshlo vremya: 0:01:28.178036\n",
      "C = 0.1\n",
      "0.7168958536124972\n",
      "Proshlo vremya: 0:01:26.891839\n",
      "C = 1.0\n",
      "0.7162833028952204\n",
      "Proshlo vremya: 0:01:30.000073\n",
      "C = 10.0\n",
      "0.7162729038477981\n",
      "Proshlo vremya: 0:01:31.599760\n",
      "Maximalnaya mediana: 0.7219516244111166\n",
      "Luchshee C: 1.0\n"
     ]
    }
   ],
   "source": [
    "score, C = regressia(features.drop(['lobby_type', 'r1_hero', 'r2_hero', 'r3_hero', 'r4_hero', 'r5_hero', 'd1_hero', 'd2_hero', \\\n",
    "                          'd3_hero', 'd4_hero', 'd5_hero'], axis=1), y)\n",
    "\n",
    "print('Maximalnaya mediana:', score)\n",
    "print('Luchshee C:', C)"
   ]
  },
  {
   "cell_type": "markdown",
   "metadata": {},
   "source": [
    "### На предыдущем шаге мы исключили из выборки признаки rM_hero и dM_hero, которые показывают, какие именно герои играли за каждую команду. Это важные признаки — герои имеют разные характеристики, и некоторые из них выигрывают чаще, чем другие. Выясните из данных, сколько различных идентификаторов героев существует в данной игре (вам может пригодиться фукнция unique или value_counts)."
   ]
  },
  {
   "cell_type": "code",
   "execution_count": 7,
   "metadata": {},
   "outputs": [
    {
     "data": {
      "text/plain": [
       "108"
      ]
     },
     "execution_count": 7,
     "metadata": {},
     "output_type": "execute_result"
    }
   ],
   "source": [
    "unikal_geroi = len(np.unique(features[['r' + str(i) + '_hero' for i in range(1, 6)]]))\n",
    "unikal_geroi"
   ]
  },
  {
   "cell_type": "markdown",
   "metadata": {},
   "source": [
    "### Воспользуемся подходом \"мешок слов\" для кодирования информации о героях. Пусть всего в игре имеет N различных героев. Сформируем N признаков, при этом i-й будет равен нулю, если i-й герой не участвовал в матче; единице, если i-й герой играл за команду Radiant; минус единице, если i-й герой играл за команду Dire. Ниже вы можете найти код, который выполняет данной преобразование. Добавьте полученные признаки к числовым, которые вы использовали во втором пункте данного этапа."
   ]
  },
  {
   "cell_type": "code",
   "execution_count": 8,
   "metadata": {},
   "outputs": [],
   "source": [
    "X_pick = np.zeros((features.shape[0], 112))\n",
    "\n",
    "for i, match_id in enumerate(features.index):\n",
    "    for p in range(5):\n",
    "        X_pick[i, features.loc[match_id, 'r%d_hero' % (p+1)]-1] = 1\n",
    "        X_pick[i, features.loc[match_id, 'd%d_hero' % (p+1)]-1] = -1\n",
    "\n",
    "\n",
    "X_pick\n",
    "\n",
    "\n",
    "obrabotka = features.drop(['lobby_type', 'r1_hero', 'r2_hero', 'r3_hero', 'r4_hero', 'r5_hero', 'd1_hero', 'd2_hero', \\\n",
    "                          'd3_hero', 'd4_hero', 'd5_hero'], axis=1)\n",
    "X = np.concatenate((obrabotka, X_pick), axis = 1)"
   ]
  },
  {
   "cell_type": "markdown",
   "metadata": {},
   "source": [
    "### Проведите кросс-валидацию для логистической регрессии на новой выборке с подбором лучшего параметра регуляризации. Какое получилось качество? Улучшилось ли оно? Чем вы можете это объяснить?"
   ]
  },
  {
   "cell_type": "code",
   "execution_count": 9,
   "metadata": {},
   "outputs": [
    {
     "name": "stdout",
     "output_type": "stream",
     "text": [
      "C = 0.01\n",
      "0.7521941688062801\n",
      "Proshlo vremya: 0:02:17.192596\n",
      "C = 0.1\n",
      "0.7533153377072721\n",
      "Proshlo vremya: 0:02:40.297457\n",
      "C = 1.0\n",
      "0.7524957261045382\n",
      "Proshlo vremya: 0:02:36.599070\n",
      "C = 10.0\n",
      "0.7512482986986649\n",
      "Proshlo vremya: 0:02:37.398586\n",
      "Maximalnaya mediana: 0.7565595748920827\n",
      "Luchshee C: 10.0\n"
     ]
    }
   ],
   "source": [
    "score, C = regressia(X, y)\n",
    "\n",
    "print('Maximalnaya mediana:', score)\n",
    "print('Luchshee C:', C)"
   ]
  },
  {
   "cell_type": "markdown",
   "metadata": {},
   "source": [
    "### Постройте предсказания вероятностей победы команды Radiant для тестовой выборки с помощью лучшей из изученных моделей (лучшей с точки зрения AUC-ROC на кросс-валидации). Убедитесь, что предсказанные вероятности адекватные — находятся на отрезке [0, 1], не совпадают между собой (т.е. что модель не получилась константной)."
   ]
  },
  {
   "cell_type": "code",
   "execution_count": 2,
   "metadata": {},
   "outputs": [
    {
     "name": "stdout",
     "output_type": "stream",
     "text": [
      "Minimum: 0.008721474723126527\n",
      "Maximum: 0.9963305890721987\n"
     ]
    }
   ],
   "source": [
    "X_test = pd.read_csv('./features_test.csv', index_col='match_id')\n",
    "X_train = StandardScaler().fit_transform(X)\n",
    "X_test = X_test.fillna(0)\n",
    "\n",
    "X_pick = np.zeros((X_test.shape[0], 112))\n",
    "for i, match_id in enumerate(X_test.index):\n",
    "    for p in range(5):\n",
    "        X_pick[i, X_test.loc[match_id, 'r%d_hero' % (p+1)]-1] = 1\n",
    "        X_pick[i, X_test.loc[match_id, 'd%d_hero' % (p+1)]-1] = -1\n",
    "\n",
    "X_test = X_test.drop(['lobby_type', 'r1_hero', 'r2_hero', 'r3_hero', 'r4_hero', 'r5_hero', 'd1_hero', 'd2_hero', \\\n",
    "                          'd3_hero', 'd4_hero', 'd5_hero'], axis=1)\n",
    "X_test = np.hstack((X_test.values, X_pick))\n",
    "X_test = StandardScaler().fit_transform(X_test)\n",
    "\n",
    "clf = LogisticRegression(C=C)\n",
    "clf = clf.fit(X_train, y)\n",
    "pred = clf.predict_proba(X_test)[:, 1]\n",
    "pred\n",
    "\n",
    "print('Minimum:', min(pred))\n",
    "print('Maximum:', max(pred))"
   ]
  },
  {
   "cell_type": "markdown",
   "metadata": {},
   "source": [
    "## Отчёт\n",
    "\n",
    "1 Какое качество получилось у логистической регрессии над всеми исходными признаками? Как оно соотносится с качеством градиентного бустинга? Чем вы можете объяснить эту разницу? Быстрее ли работает логистическая регрессия по сравнению с градиентным бустингом?\n",
    "Лучшее качество получилось 0.721 при C=0.01, больше чем при градиентном бустинге. Градиентый бустинг хорошо показывает себя на задачах где признаки хорошо сгруппированны в пространстве, т.к. ориентирован на нахождение таких многомерных скоплений объектов. Логистическая регрессия же позволяет найти гиперплоскость максимально разделяющую объекты двух классов - она лучше работает когда объекты слабо сгруппированы в пространстве.\n",
    "\n",
    "2 Как влияет на качество логистической регрессии удаление категориальных признаков (укажите новое значение метрики качества)? Чем вы можете объяснить это изменение?\n",
    "Качество не изменилось, так как линейная модель плохо работает с категориальными данными, без обработки.\n",
    "\n",
    "3 Сколько различных идентификаторов героев существует в данной игре?\n",
    "108 героев\n",
    "\n",
    "4 Какое получилось качество при добавлении \"мешка слов\" по героям? Улучшилось ли оно по сравнению с предыдущим вариантом? Чем вы можете это объяснить?\n",
    "Качество предсказаний классификатора выросло. При использовании \"мешка слов\" можно иметь в виду сильные стороны героя.\n",
    "\n",
    "5 Какое минимальное и максимальное значение прогноза на тестовой выборке получилось у лучшего из алгоритмов?\n",
    "Минимальное значение - 0.0087, максимальное – 0.9963, среднее арифметическое - 0.5"
   ]
  }
 ],
 "metadata": {
  "kernelspec": {
   "display_name": "Python 3",
   "language": "python",
   "name": "python3"
  },
  "language_info": {
   "codemirror_mode": {
    "name": "ipython",
    "version": 3
   },
   "file_extension": ".py",
   "mimetype": "text/x-python",
   "name": "python",
   "nbconvert_exporter": "python",
   "pygments_lexer": "ipython3",
   "version": "3.6.11"
  }
 },
 "nbformat": 4,
 "nbformat_minor": 2
}
